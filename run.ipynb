{
 "cells": [
  {
   "cell_type": "code",
   "execution_count": null,
   "metadata": {
    "vscode": {
     "languageId": "plaintext"
    }
   },
   "outputs": [],
   "source": [
    "import json\n",
    "\n",
    "file = # e.g., \"All_Beauty.jsonl\", downloaded from the `review` link above\n",
    "with open(file, 'r') as fp:\n",
    "    for line in fp:\n",
    "        print(json.loads(line.strip()))\n",
    "\n",
    "file = # e.g., \"meta_All_Beauty.jsonl\", downloaded from the `meta` link above\n",
    "with open(file, 'r') as fp:\n",
    "    for line in fp:\n",
    "        print(json.loads(line.strip()))"
   ]
  }
 ],
 "metadata": {
  "language_info": {
   "name": "python"
  }
 },
 "nbformat": 4,
 "nbformat_minor": 2
}
